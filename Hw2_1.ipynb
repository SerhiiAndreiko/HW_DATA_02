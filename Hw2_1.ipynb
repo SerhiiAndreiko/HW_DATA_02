{
  "nbformat": 4,
  "nbformat_minor": 0,
  "metadata": {
    "colab": {
      "provenance": [],
      "authorship_tag": "ABX9TyNUaCvDO6YRE4zEEccLY1G9",
      "include_colab_link": true
    },
    "kernelspec": {
      "name": "python3",
      "display_name": "Python 3"
    },
    "language_info": {
      "name": "python"
    }
  },
  "cells": [
    {
      "cell_type": "markdown",
      "metadata": {
        "id": "view-in-github",
        "colab_type": "text"
      },
      "source": [
        "<a href=\"https://colab.research.google.com/github/SerhiiAndreiko/HW_DATA_02/blob/main/Hw2_1.ipynb\" target=\"_parent\"><img src=\"https://colab.research.google.com/assets/colab-badge.svg\" alt=\"Open In Colab\"/></a>"
      ]
    },
    {
      "cell_type": "code",
      "execution_count": 45,
      "metadata": {
        "id": "iZgARxBsElUQ"
      },
      "outputs": [],
      "source": [
        "import pandas as pd\n",
        "import matplotlib.pyplot as plt\n",
        "import numpy as np\n"
      ]
    },
    {
      "cell_type": "markdown",
      "source": [
        "# **Вивести перші рядки таблиці за допомогою методу head**"
      ],
      "metadata": {
        "id": "vfKKdqJLYsvP"
      }
    },
    {
      "cell_type": "code",
      "source": [
        "tmp = pd.read_html(\"https://uk.wikipedia.org/wiki/%D0%9D%D0%B0%D1%81%D0%B5%D0%BB%D0%B5%D0%BD%D0%BD%D1%8F_%D0%A3%D0%BA%D1%80%D0%B0%D1%97%D0%BD%D0%B8\", match='Коефіцієнт народжуваності в регіонах України')\n",
        "df=tmp[0]\n",
        "list(df.head())\n"
      ],
      "metadata": {
        "id": "QWf6Ge7KHSOA",
        "colab": {
          "base_uri": "https://localhost:8080/"
        },
        "outputId": "53db900f-d75c-4da1-9981-d532b44f8a57"
      },
      "execution_count": 77,
      "outputs": [
        {
          "output_type": "execute_result",
          "data": {
            "text/plain": [
              "['Регіон', '1950', '1960', '1970', '1990', '2000', '2012', '2014', '2019']"
            ]
          },
          "metadata": {},
          "execution_count": 77
        }
      ]
    },
    {
      "cell_type": "markdown",
      "source": [
        "# **Визначте кількість рядків та стовпців у датафреймі (атрибут shape)**"
      ],
      "metadata": {
        "id": "OSc8sowkY1Ui"
      }
    },
    {
      "cell_type": "code",
      "source": [
        "df.shape"
      ],
      "metadata": {
        "colab": {
          "base_uri": "https://localhost:8080/"
        },
        "id": "xFAjPpr4YpVz",
        "outputId": "541b8278-eef1-46fb-b429-1f2d0964f611"
      },
      "execution_count": 51,
      "outputs": [
        {
          "output_type": "execute_result",
          "data": {
            "text/plain": [
              "(28, 9)"
            ]
          },
          "metadata": {},
          "execution_count": 51
        }
      ]
    },
    {
      "cell_type": "markdown",
      "source": [
        "# **Замініть у таблиці значення \"—\" на значення NaN**"
      ],
      "metadata": {
        "id": "2LoQossLZeoc"
      }
    },
    {
      "cell_type": "code",
      "source": [
        "df.info()\n",
        "print(df)"
      ],
      "metadata": {
        "colab": {
          "base_uri": "https://localhost:8080/"
        },
        "id": "lXQFY15GZkVJ",
        "outputId": "b1aed752-d0b4-434f-f0b9-dea996d40846"
      },
      "execution_count": 80,
      "outputs": [
        {
          "output_type": "stream",
          "name": "stdout",
          "text": [
            "<class 'pandas.core.frame.DataFrame'>\n",
            "RangeIndex: 28 entries, 0 to 27\n",
            "Data columns (total 9 columns):\n",
            " #   Column  Non-Null Count  Dtype  \n",
            "---  ------  --------------  -----  \n",
            " 0   Регіон  28 non-null     object \n",
            " 1   1950    26 non-null     float64\n",
            " 2   1960    27 non-null     float64\n",
            " 3   1970    27 non-null     float64\n",
            " 4   1990    28 non-null     int64  \n",
            " 5   2000    28 non-null     int64  \n",
            " 6   2012    28 non-null     int64  \n",
            " 7   2014    28 non-null     object \n",
            " 8   2019    28 non-null     object \n",
            "dtypes: float64(3), int64(3), object(3)\n",
            "memory usage: 2.1+ KB\n",
            "               Регіон   1950   1960   1970  1990  2000  2012 2014 2019\n",
            "0                Крим  230.0  206.0  160.0   130    73   126    —    —\n",
            "1           Вінницька  224.0  192.0  142.0   124    84   112  109   76\n",
            "2           Волинська  247.0  250.0  179.0   153   112   148  141  101\n",
            "3    Дніпропетровська  204.0  204.0  151.0   123    71   112  111   71\n",
            "4            Донецька  271.0  214.0  140.0   109    61    98   82    —\n",
            "5         Житомирська  261.0  223.0  159.0   129    89   122  120   79\n",
            "6        Закарпатська  314.0  273.0  207.0   168   115   151  146  104\n",
            "7          Запорізька  219.0  197.0  150.0   124    71   106  106   68\n",
            "8   Івано-Франківська  243.0  248.0  182.0   155   103   124  122   88\n",
            "9            Київська  204.0  189.0  156.0   123    73   122  121   80\n",
            "10     Кіровоградська  216.0  171.0  145.0   126    79   110  108   68\n",
            "11          Луганська  262.0  235.0  144.0   116    62    96   51    —\n",
            "12          Львівська  234.0  240.0  171.0   140    91   119  119   87\n",
            "13       Миколаївська  211.0  194.0  155.0   137    80   115  112   71\n",
            "14            Одеська  241.0  192.0  148.0   126    80   127  123   88\n",
            "15         Полтавська  186.0  163.0  131.0   118    70    99  100   65\n",
            "16         Рівненська  269.0  267.0  193.0   158   118   159  148  107\n",
            "17            Сумська  216.0  184.0  132.0   115    70    97   92   60\n",
            "18      Тернопільська  213.0  216.0  157.0   142    92   113  109   76\n",
            "19         Харківська  197.0  173.0  140.0   114    68    99  101   68\n",
            "20         Херсонська  208.0  214.0  166.0   143    85   117  115   81\n",
            "21        Хмельницька  234.0  198.0  148.0   129    85   113  112   79\n",
            "22          Черкаська  205.0  179.0  144.0   123    75   100   98   64\n",
            "23        Чернівецька  247.0  218.0  170.0   148   101   128  129   92\n",
            "24       Чернігівська  220.0  183.0  127.0   108    69    94   90   61\n",
            "25               Київ    NaN  174.0  159.0   120    73   120  121  110\n",
            "26        Севастополь    NaN    NaN    NaN   125    70   120    —    —\n",
            "27            Україна  228.0  205.0  152.0   126    78   114  111   81\n"
          ]
        }
      ]
    },
    {
      "cell_type": "code",
      "source": [
        "\n",
        "df_rep = df.replace('—', np.nan)\n",
        "print(df_rep)"
      ],
      "metadata": {
        "colab": {
          "base_uri": "https://localhost:8080/"
        },
        "id": "_hAqkZvqddLQ",
        "outputId": "8af67b0c-0d92-433c-99c8-5118f7400faa"
      },
      "execution_count": 81,
      "outputs": [
        {
          "output_type": "stream",
          "name": "stdout",
          "text": [
            "               Регіон   1950   1960   1970  1990  2000  2012 2014 2019\n",
            "0                Крим  230.0  206.0  160.0   130    73   126  NaN  NaN\n",
            "1           Вінницька  224.0  192.0  142.0   124    84   112  109   76\n",
            "2           Волинська  247.0  250.0  179.0   153   112   148  141  101\n",
            "3    Дніпропетровська  204.0  204.0  151.0   123    71   112  111   71\n",
            "4            Донецька  271.0  214.0  140.0   109    61    98   82  NaN\n",
            "5         Житомирська  261.0  223.0  159.0   129    89   122  120   79\n",
            "6        Закарпатська  314.0  273.0  207.0   168   115   151  146  104\n",
            "7          Запорізька  219.0  197.0  150.0   124    71   106  106   68\n",
            "8   Івано-Франківська  243.0  248.0  182.0   155   103   124  122   88\n",
            "9            Київська  204.0  189.0  156.0   123    73   122  121   80\n",
            "10     Кіровоградська  216.0  171.0  145.0   126    79   110  108   68\n",
            "11          Луганська  262.0  235.0  144.0   116    62    96   51  NaN\n",
            "12          Львівська  234.0  240.0  171.0   140    91   119  119   87\n",
            "13       Миколаївська  211.0  194.0  155.0   137    80   115  112   71\n",
            "14            Одеська  241.0  192.0  148.0   126    80   127  123   88\n",
            "15         Полтавська  186.0  163.0  131.0   118    70    99  100   65\n",
            "16         Рівненська  269.0  267.0  193.0   158   118   159  148  107\n",
            "17            Сумська  216.0  184.0  132.0   115    70    97   92   60\n",
            "18      Тернопільська  213.0  216.0  157.0   142    92   113  109   76\n",
            "19         Харківська  197.0  173.0  140.0   114    68    99  101   68\n",
            "20         Херсонська  208.0  214.0  166.0   143    85   117  115   81\n",
            "21        Хмельницька  234.0  198.0  148.0   129    85   113  112   79\n",
            "22          Черкаська  205.0  179.0  144.0   123    75   100   98   64\n",
            "23        Чернівецька  247.0  218.0  170.0   148   101   128  129   92\n",
            "24       Чернігівська  220.0  183.0  127.0   108    69    94   90   61\n",
            "25               Київ    NaN  174.0  159.0   120    73   120  121  110\n",
            "26        Севастополь    NaN    NaN    NaN   125    70   120  NaN  NaN\n",
            "27            Україна  228.0  205.0  152.0   126    78   114  111   81\n"
          ]
        }
      ]
    },
    {
      "cell_type": "markdown",
      "source": [
        "# **Визначте типи всіх стовпців за допомогою dataframe.dtypes**"
      ],
      "metadata": {
        "id": "0YK39FiIiVf_"
      }
    },
    {
      "cell_type": "code",
      "source": [
        "df_rep.dtypes"
      ],
      "metadata": {
        "colab": {
          "base_uri": "https://localhost:8080/"
        },
        "id": "FanmGWkZibHV",
        "outputId": "a8110e5b-ab97-4322-d1aa-1d6f2b58e254"
      },
      "execution_count": 57,
      "outputs": [
        {
          "output_type": "execute_result",
          "data": {
            "text/plain": [
              "Регіон     object\n",
              "1950      float64\n",
              "1960      float64\n",
              "1970      float64\n",
              "1990        int64\n",
              "2000        int64\n",
              "2012        int64\n",
              "2014       object\n",
              "2019       object\n",
              "dtype: object"
            ]
          },
          "metadata": {},
          "execution_count": 57
        }
      ]
    },
    {
      "cell_type": "markdown",
      "source": [
        "# **Замініть типи нечислових колонок на числові. Підказка - це колонки, де знаходився символ \"—\"**"
      ],
      "metadata": {
        "id": "xqABLPXbi3Xr"
      }
    },
    {
      "cell_type": "code",
      "source": [
        "new_df = df.replace(\"—\", \"0\")\n",
        "\n",
        "\n",
        "print(new_df)"
      ],
      "metadata": {
        "colab": {
          "base_uri": "https://localhost:8080/"
        },
        "id": "KIE1iMBXi8vj",
        "outputId": "aaa04f84-5f15-40ef-d82f-1025fdbc4be5"
      },
      "execution_count": 130,
      "outputs": [
        {
          "output_type": "stream",
          "name": "stdout",
          "text": [
            "               Регіон   1950   1960   1970  1990  2000  2012 2014 2019\n",
            "0                Крим  230.0  206.0  160.0   130    73   126    0    0\n",
            "1           Вінницька  224.0  192.0  142.0   124    84   112  109   76\n",
            "2           Волинська  247.0  250.0  179.0   153   112   148  141  101\n",
            "3    Дніпропетровська  204.0  204.0  151.0   123    71   112  111   71\n",
            "4            Донецька  271.0  214.0  140.0   109    61    98   82    0\n",
            "5         Житомирська  261.0  223.0  159.0   129    89   122  120   79\n",
            "6        Закарпатська  314.0  273.0  207.0   168   115   151  146  104\n",
            "7          Запорізька  219.0  197.0  150.0   124    71   106  106   68\n",
            "8   Івано-Франківська  243.0  248.0  182.0   155   103   124  122   88\n",
            "9            Київська  204.0  189.0  156.0   123    73   122  121   80\n",
            "10     Кіровоградська  216.0  171.0  145.0   126    79   110  108   68\n",
            "11          Луганська  262.0  235.0  144.0   116    62    96   51    0\n",
            "12          Львівська  234.0  240.0  171.0   140    91   119  119   87\n",
            "13       Миколаївська  211.0  194.0  155.0   137    80   115  112   71\n",
            "14            Одеська  241.0  192.0  148.0   126    80   127  123   88\n",
            "15         Полтавська  186.0  163.0  131.0   118    70    99  100   65\n",
            "16         Рівненська  269.0  267.0  193.0   158   118   159  148  107\n",
            "17            Сумська  216.0  184.0  132.0   115    70    97   92   60\n",
            "18      Тернопільська  213.0  216.0  157.0   142    92   113  109   76\n",
            "19         Харківська  197.0  173.0  140.0   114    68    99  101   68\n",
            "20         Херсонська  208.0  214.0  166.0   143    85   117  115   81\n",
            "21        Хмельницька  234.0  198.0  148.0   129    85   113  112   79\n",
            "22          Черкаська  205.0  179.0  144.0   123    75   100   98   64\n",
            "23        Чернівецька  247.0  218.0  170.0   148   101   128  129   92\n",
            "24       Чернігівська  220.0  183.0  127.0   108    69    94   90   61\n",
            "25               Київ    NaN  174.0  159.0   120    73   120  121  110\n",
            "26        Севастополь    NaN    NaN    NaN   125    70   120    0    0\n"
          ]
        }
      ]
    },
    {
      "cell_type": "markdown",
      "source": [
        "# **Порахуйте, яка частка пропусків міститься в кожній колонці (використовуйте методи isnull та sum)**"
      ],
      "metadata": {
        "id": "b2j8alk1ld7s"
      }
    },
    {
      "cell_type": "code",
      "source": [
        "missing_values = new_df.isnull().sum()\n",
        "\n",
        "#Пропущені значення\n",
        "total = len(new_df)\n",
        "missing_percentage = (missing_values / total) * 100\n",
        "\n",
        "print(missing_percentage)"
      ],
      "metadata": {
        "colab": {
          "base_uri": "https://localhost:8080/"
        },
        "id": "U8wscbmJllcX",
        "outputId": "30c5597e-753f-4979-d441-5b77d761cf8d"
      },
      "execution_count": 107,
      "outputs": [
        {
          "output_type": "stream",
          "name": "stdout",
          "text": [
            "Регіон    0.000000\n",
            "1950      7.142857\n",
            "1960      3.571429\n",
            "1970      3.571429\n",
            "1990      0.000000\n",
            "2000      0.000000\n",
            "2012      0.000000\n",
            "2014      0.000000\n",
            "2019      0.000000\n",
            "dtype: float64\n"
          ]
        }
      ]
    },
    {
      "cell_type": "markdown",
      "source": [
        "# **Видаліть з таблиці дані по всій країні, останній рядок таблиці**"
      ],
      "metadata": {
        "id": "UeJJMIfPnHP_"
      }
    },
    {
      "cell_type": "code",
      "source": [
        "new_df.drop(new_df.index[-1], inplace=True)\n",
        "\n",
        "print(new_df)"
      ],
      "metadata": {
        "colab": {
          "base_uri": "https://localhost:8080/"
        },
        "id": "VQ4KQQmtnKUy",
        "outputId": "485e57f0-3c48-4ec0-ecf1-49da7c9ceea2"
      },
      "execution_count": 128,
      "outputs": [
        {
          "output_type": "stream",
          "name": "stdout",
          "text": [
            "               Регіон   1950   1960   1970  1990  2000  2012 2014 2019\n",
            "0                Крим  230.0  206.0  160.0   130    73   126    0    0\n",
            "1           Вінницька  224.0  192.0  142.0   124    84   112  109   76\n",
            "2           Волинська  247.0  250.0  179.0   153   112   148  141  101\n",
            "3    Дніпропетровська  204.0  204.0  151.0   123    71   112  111   71\n",
            "4            Донецька  271.0  214.0  140.0   109    61    98   82    0\n",
            "5         Житомирська  261.0  223.0  159.0   129    89   122  120   79\n",
            "6        Закарпатська  314.0  273.0  207.0   168   115   151  146  104\n",
            "7          Запорізька  219.0  197.0  150.0   124    71   106  106   68\n",
            "8   Івано-Франківська  243.0  248.0  182.0   155   103   124  122   88\n",
            "9            Київська  204.0  189.0  156.0   123    73   122  121   80\n",
            "10     Кіровоградська  216.0  171.0  145.0   126    79   110  108   68\n",
            "11          Луганська  262.0  235.0  144.0   116    62    96   51    0\n",
            "12          Львівська  234.0  240.0  171.0   140    91   119  119   87\n",
            "13       Миколаївська  211.0  194.0  155.0   137    80   115  112   71\n",
            "14            Одеська  241.0  192.0  148.0   126    80   127  123   88\n",
            "15         Полтавська  186.0  163.0  131.0   118    70    99  100   65\n",
            "16         Рівненська  269.0  267.0  193.0   158   118   159  148  107\n",
            "17            Сумська  216.0  184.0  132.0   115    70    97   92   60\n",
            "18      Тернопільська  213.0  216.0  157.0   142    92   113  109   76\n",
            "19         Харківська  197.0  173.0  140.0   114    68    99  101   68\n",
            "20         Херсонська  208.0  214.0  166.0   143    85   117  115   81\n",
            "21        Хмельницька  234.0  198.0  148.0   129    85   113  112   79\n",
            "22          Черкаська  205.0  179.0  144.0   123    75   100   98   64\n",
            "23        Чернівецька  247.0  218.0  170.0   148   101   128  129   92\n",
            "24       Чернігівська  220.0  183.0  127.0   108    69    94   90   61\n"
          ]
        }
      ]
    },
    {
      "cell_type": "markdown",
      "source": [
        "# **Замініть відсутні дані в стовпцях середніми значеннями цих стовпців (метод fillna)**"
      ],
      "metadata": {
        "id": "SEvuEnA8o1Gl"
      }
    },
    {
      "cell_type": "code",
      "source": [
        "df1 = new_df.replace(np.nan, \"0\")\n",
        "df1.info()\n"
      ],
      "metadata": {
        "colab": {
          "base_uri": "https://localhost:8080/"
        },
        "id": "_UpvyI1do8eZ",
        "outputId": "92ad678e-db6b-43b7-8e63-85ba2cd2c8d7"
      },
      "execution_count": 136,
      "outputs": [
        {
          "output_type": "stream",
          "name": "stdout",
          "text": [
            "<class 'pandas.core.frame.DataFrame'>\n",
            "RangeIndex: 27 entries, 0 to 26\n",
            "Data columns (total 9 columns):\n",
            " #   Column  Non-Null Count  Dtype  \n",
            "---  ------  --------------  -----  \n",
            " 0   Регіон  27 non-null     object \n",
            " 1   1950    27 non-null     float64\n",
            " 2   1960    27 non-null     float64\n",
            " 3   1970    27 non-null     float64\n",
            " 4   1990    27 non-null     int64  \n",
            " 5   2000    27 non-null     int64  \n",
            " 6   2012    27 non-null     int64  \n",
            " 7   2014    27 non-null     object \n",
            " 8   2019    27 non-null     object \n",
            "dtypes: float64(3), int64(3), object(3)\n",
            "memory usage: 2.0+ KB\n"
          ]
        }
      ]
    },
    {
      "cell_type": "code",
      "source": [
        "convert_columns = [\"1950\", \"1960\", \"1970\", \"1990\", \"2000\", \"2012\", \"2014\", \"2019\"]\n",
        "\n",
        "for column in convert_columns:\n",
        "  df1[column] = pd.to_numeric(df1[column], errors=\"coerce\").astype(\"int64\")\n",
        "\n",
        "print(df1.dtypes)"
      ],
      "metadata": {
        "colab": {
          "base_uri": "https://localhost:8080/"
        },
        "id": "O98lQJHD4ywS",
        "outputId": "0c79ee64-6ab3-4d06-e9d3-366510332cbd"
      },
      "execution_count": 154,
      "outputs": [
        {
          "output_type": "stream",
          "name": "stdout",
          "text": [
            "Регіон    object\n",
            "1950       int64\n",
            "1960       int64\n",
            "1970       int64\n",
            "1990       int64\n",
            "2000       int64\n",
            "2012       int64\n",
            "2014       int64\n",
            "2019       int64\n",
            "dtype: object\n"
          ]
        }
      ]
    },
    {
      "cell_type": "code",
      "source": [
        "# Assuming df1 is your DataFrame\n",
        "selected_columns = df1.columns[1:]  # Exclude the first column ('Регіон')\n",
        "\n",
        "# Replace 0 values with NaN for the entire DataFrame\n",
        "df1 = df1.replace(0, np.nan)\n",
        "\n",
        "# Calculate mean excluding NaN values\n",
        "means = df1[selected_columns].mean()\n",
        "\n",
        "# Fill NaN values with mean\n",
        "df1[selected_columns] = df1[selected_columns].fillna(means)\n",
        "\n",
        "# Round the values to 1 decimal place\n",
        "df1[selected_columns] = df1[selected_columns].round(1)\n",
        "\n",
        "# Display the rounded means\n",
        "print(means.round(2))\n",
        "\n",
        "# Display the updated DataFrame\n",
        "print(df1)"
      ],
      "metadata": {
        "colab": {
          "base_uri": "https://localhost:8080/"
        },
        "id": "asZtSldE_Rku",
        "outputId": "fa99c988-f523-4ad2-ffa7-737bcd22784e"
      },
      "execution_count": 155,
      "outputs": [
        {
          "output_type": "stream",
          "name": "stdout",
          "text": [
            "1950    231.04\n",
            "1960    207.56\n",
            "1970    156.00\n",
            "1990    130.59\n",
            "2000     82.22\n",
            "2012    116.56\n",
            "2014    111.44\n",
            "2019     80.17\n",
            "dtype: float64\n",
            "               Регіон  1950  1960  1970  1990  2000  2012   2014   2019\n",
            "0                Крим   230   206   160   130    73   126  111.4   80.2\n",
            "1           Вінницька   224   192   142   124    84   112  109.0   76.0\n",
            "2           Волинська   247   250   179   153   112   148  141.0  101.0\n",
            "3    Дніпропетровська   204   204   151   123    71   112  111.0   71.0\n",
            "4            Донецька   271   214   140   109    61    98   82.0   80.2\n",
            "5         Житомирська   261   223   159   129    89   122  120.0   79.0\n",
            "6        Закарпатська   314   273   207   168   115   151  146.0  104.0\n",
            "7          Запорізька   219   197   150   124    71   106  106.0   68.0\n",
            "8   Івано-Франківська   243   248   182   155   103   124  122.0   88.0\n",
            "9            Київська   204   189   156   123    73   122  121.0   80.0\n",
            "10     Кіровоградська   216   171   145   126    79   110  108.0   68.0\n",
            "11          Луганська   262   235   144   116    62    96   51.0   80.2\n",
            "12          Львівська   234   240   171   140    91   119  119.0   87.0\n",
            "13       Миколаївська   211   194   155   137    80   115  112.0   71.0\n",
            "14            Одеська   241   192   148   126    80   127  123.0   88.0\n",
            "15         Полтавська   186   163   131   118    70    99  100.0   65.0\n",
            "16         Рівненська   269   267   193   158   118   159  148.0  107.0\n",
            "17            Сумська   216   184   132   115    70    97   92.0   60.0\n",
            "18      Тернопільська   213   216   157   142    92   113  109.0   76.0\n",
            "19         Харківська   197   173   140   114    68    99  101.0   68.0\n",
            "20         Херсонська   208   214   166   143    85   117  115.0   81.0\n",
            "21        Хмельницька   234   198   148   129    85   113  112.0   79.0\n",
            "22          Черкаська   205   179   144   123    75   100   98.0   64.0\n",
            "23        Чернівецька   247   218   170   148   101   128  129.0   92.0\n",
            "24       Чернігівська   220   183   127   108    69    94   90.0   61.0\n",
            "25               Київ   231   174   159   120    73   120  121.0  110.0\n",
            "26        Севастополь   231   207   156   125    70   120  111.4   80.2\n"
          ]
        }
      ]
    },
    {
      "cell_type": "markdown",
      "source": [
        "# **Отримайте список регіонів, де рівень народжуваності у 2019 році був вищим за середній по Україні**"
      ],
      "metadata": {
        "id": "ja1YiJiT_fwh"
      }
    },
    {
      "cell_type": "code",
      "source": [
        "df1 = df1.replace(0, np.nan)\n",
        "selected_columns = df1.columns[1:]\n",
        "means = df1[selected_columns].mean()\n",
        "df1[selected_columns] = df1[selected_columns].fillna(means)\n",
        "df1[selected_columns] = df1[selected_columns].round(1)\n",
        "national_average_2019 = df1['2019'].mean()\n",
        "regions_higher_than_average = df1[df1['2019'] > national_average_2019][['Регіон', '2019']].copy()\n",
        "regions_higher_than_average['Коефіцієнт'] = regions_higher_than_average['2019'] / national_average_2019\n",
        "\n",
        "print(\"Regions with birth rate higher than the national average in 2019:\")\n",
        "print(regions_higher_than_average[['Регіон', '2019', 'Коефіцієнт']])"
      ],
      "metadata": {
        "colab": {
          "base_uri": "https://localhost:8080/"
        },
        "id": "_pl9PHyN_kjG",
        "outputId": "1eb6747e-436b-4acf-e6b7-45ead04ad267"
      },
      "execution_count": 158,
      "outputs": [
        {
          "output_type": "stream",
          "name": "stdout",
          "text": [
            "Regions with birth rate higher than the national average in 2019:\n",
            "               Регіон   2019  Коефіцієнт\n",
            "0                Крим   80.2    1.000277\n",
            "2           Волинська  101.0    1.259701\n",
            "4            Донецька   80.2    1.000277\n",
            "6        Закарпатська  104.0    1.297118\n",
            "8   Івано-Франківська   88.0    1.097561\n",
            "11          Луганська   80.2    1.000277\n",
            "12          Львівська   87.0    1.085089\n",
            "14            Одеська   88.0    1.097561\n",
            "16         Рівненська  107.0    1.334534\n",
            "20         Херсонська   81.0    1.010255\n",
            "23        Чернівецька   92.0    1.147450\n",
            "25               Київ  110.0    1.371951\n",
            "26        Севастополь   80.2    1.000277\n"
          ]
        }
      ]
    },
    {
      "cell_type": "markdown",
      "source": [
        "# **У якому регіоні була найвища народжуваність у 2014 році?**"
      ],
      "metadata": {
        "id": "acwRROkJAh1Y"
      }
    },
    {
      "cell_type": "code",
      "source": [
        "region_with_highest_birth_rate_2014 = df1.loc[df1['2014'].idxmax(), 'Регіон']\n",
        "highest_birth_rate_2014 = df1['2014'].max()\n",
        "\n",
        "print(f\"Region with the highest birth rate in 2014: {region_with_highest_birth_rate_2014}\")\n",
        "print(f\"Highest birth rate in 2014: {highest_birth_rate_2014}\")\n"
      ],
      "metadata": {
        "colab": {
          "base_uri": "https://localhost:8080/"
        },
        "id": "IuSbU-lSAl_7",
        "outputId": "e99beedc-db48-4219-f8d9-78ccea7e659e"
      },
      "execution_count": 160,
      "outputs": [
        {
          "output_type": "stream",
          "name": "stdout",
          "text": [
            "Region with the highest birth rate in 2014: Рівненська\n",
            "Highest birth rate in 2014: 148.0\n"
          ]
        }
      ]
    },
    {
      "cell_type": "markdown",
      "source": [
        "# **Побудуйте стовпчикову діаграму народжуваності по регіонах у 2019 році**"
      ],
      "metadata": {
        "id": "pDAoCQ-iA9_W"
      }
    },
    {
      "cell_type": "code",
      "source": [
        "regions = df1['Регіон']\n",
        "birth_rates_2019 = df1['2019']\n",
        "\n",
        "# Побудова стовпчикової діаграми\n",
        "plt.figure(figsize=(12, 6))\n",
        "plt.bar(regions, birth_rates_2019, color='blue')\n",
        "plt.xlabel('Регіон')\n",
        "plt.ylabel('Народжуваність у 2019 році')\n",
        "plt.title('Народжуваність по регіонах у 2019 році')\n",
        "plt.xticks(rotation=90)\n",
        "plt.show()"
      ],
      "metadata": {
        "colab": {
          "base_uri": "https://localhost:8080/",
          "height": 685
        },
        "id": "pviHNS88BDwc",
        "outputId": "b0020cad-da30-49df-cacd-b81169d768ec"
      },
      "execution_count": 161,
      "outputs": [
        {
          "output_type": "display_data",
          "data": {
            "text/plain": [
              "<Figure size 1200x600 with 1 Axes>"
            ],
            "image/png": "[encoded data removed]"
          },
          "metadata": {}
        }
      ]
    }
  ]
}